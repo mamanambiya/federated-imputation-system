{
 "cells": [
  {
   "cell_type": "markdown",
   "id": "596a980a-391f-4594-bc1e-43c1c4c091dd",
   "metadata": {},
   "source": [
    "# Federated Imputation Platform - Integration Test\n",
    "Based on the Elwazi pilot node testing pattern"
   ]
  },
  {
   "cell_type": "markdown",
   "id": "a94617fb-aa83-4c9b-abb6-818ba4e120e1",
   "metadata": {},
   "source": [
    "## Setup and Helper Functions"
   ]
  },
  {
   "cell_type": "code",
   "execution_count": null,
   "id": "c2c5e3f7-110a-4c7b-89b0-cb06a21a6dd6",
   "metadata": {},
   "outputs": [],
   "source": [
    "import requests\n",
    "import json\n",
    "import time\n",
    "from typing import Dict, List, Any\n",
    "\n",
    "def pretty_print_json(response):\n",
    "    \"\"\"Pretty print JSON in blue color\"\"\"\n",
    "    print(\"\\033[38;2;8;75;138m\"+json.dumps(response.json(), indent=4)+\"\\033[0m\")\n",
    "    \n",
    "def print_head(text):\n",
    "    \"\"\"Print in green color\"\"\"\n",
    "    print(\"\\033[38;2;8;138;75m\"+text+\"\\033[0m\")\n",
    "\n",
    "def print_error(text):\n",
    "    \"\"\"Print in red color\"\"\"\n",
    "    print(\"\\033[38;2;255;0;0m\"+text+\"\\033[0m\")"
   ]
  },
  {
   "cell_type": "markdown",
   "id": "6521c800-c984-4bd5-8f67-888757783ba2",
   "metadata": {},
   "source": [
    "## 1. Configure Test Parameters"
   ]
  },
  {
   "cell_type": "code",
   "execution_count": null,
   "id": "b8180a74-aa71-407c-84e8-b38904adbd31",
   "metadata": {},
   "outputs": [],
   "source": [
    "# Central orchestrator configuration\n",
    "CENTRAL_BASE_URL = \"http://154.114.10.123:8000\"\n",
    "\n",
    "# Test user credentials (create a test user if needed)\n",
    "TEST_USER = {\n",
    "    \"username\": \"admin\",\n",
    "    \"email\": \"admin@example.com\",\n",
    "    \"password\": \"admin123\"\n",
    "}\n",
    "\n",
    "# Test reference panel\n",
    "TEST_REFERENCE_PANEL = \"1000G_phase3_v5\"\n",
    "\n",
    "# Authentication token (will be populated after login)\n",
    "AUTH_TOKEN = None"
   ]
  },
  {
   "cell_type": "markdown",
   "id": "fbb2920d-4d39-4521-9ed8-5a2c9893bd92",
   "metadata": {},
   "source": [
    "## 2. Test Authentication"
   ]
  },
  {
   "cell_type": "code",
   "execution_count": null,
   "id": "e99b4822-8d2a-4447-8bb7-db4618921199",
   "metadata": {},
   "outputs": [],
   "source": [
    "# Test login\n",
    "login_url = f\"{CENTRAL_BASE_URL}/api/auth/login/\"\n",
    "print_head(f\"POST request to {login_url}\")\n",
    "\n",
    "login_response = requests.post(\n",
    "    login_url,\n",
    "    json={\n",
    "        \"username\": TEST_USER[\"username\"],\n",
    "        \"password\": TEST_USER[\"password\"]\n",
    "    }\n",
    ")\n",
    "\n",
    "if login_response.status_code == 200:\n",
    "    AUTH_TOKEN = login_response.json()[\"access\"]\n",
    "    print_head(f\"✓ Login successful! Token: {AUTH_TOKEN[:30]}...\")\n",
    "else:\n",
    "    print_error(f\"✗ Login failed: {login_response.status_code}\")\n",
    "    pretty_print_json(login_response)\n",
    "\n",
    "# Setup headers for authenticated requests\n",
    "HEADERS = {\n",
    "    \"Authorization\": f\"Bearer {AUTH_TOKEN}\",\n",
    "    \"Content-Type\": \"application/json\"\n",
    "}"
   ]
  },
  {
   "cell_type": "markdown",
   "id": "d1f89e9f-1653-4e96-bdcc-d9826bbb978d",
   "metadata": {},
   "source": [
    "## 3. Check Service Registry Endpoints"
   ]
  },
  {
   "cell_type": "code",
   "execution_count": null,
   "id": "5eb5b2f5-d57b-493a-8000-c6ffad3e7ac4",
   "metadata": {},
   "outputs": [],
   "source": [
    "# Get list of available services\n",
    "services_url = f\"{CENTRAL_BASE_URL}/api/services/\"\n",
    "print_head(f\"GET request to {services_url}\")\n",
    "\n",
    "services_response = requests.get(services_url, headers=HEADERS)\n",
    "\n",
    "if services_response.status_code == 200:\n",
    "    services = services_response.json()\n",
    "    print_head(f\"✓ Found {len(services)} services\")\n",
    "    \n",
    "    # Filter for healthy services\n",
    "    healthy_services = [s for s in services if s.get('is_healthy', False)]\n",
    "    print_head(f\"✓ {len(healthy_services)} healthy services available\")\n",
    "    \n",
    "    # Display services by reference panel\n",
    "    for service in healthy_services:\n",
    "        print(f\"  - {service['name']} ({service['url']})\")\n",
    "        print(f\"    Panels: {', '.join([p['name'] for p in service.get('reference_panels', [])])}\")\n",
    "else:\n",
    "    print_error(f\"✗ Failed to get services: {services_response.status_code}\")"
   ]
  },
  {
   "cell_type": "markdown",
   "id": "14adb260-3107-4791-841b-831c2052cd6e",
   "metadata": {},
   "source": [
    "## 4. Check Reference Panels"
   ]
  },
  {
   "cell_type": "code",
   "execution_count": null,
   "id": "52ad5806-4704-472c-8e1e-5012e3d1ddb1",
   "metadata": {},
   "outputs": [],
   "source": [
    "# Get reference panels\n",
    "panels_url = f\"{CENTRAL_BASE_URL}/api/reference-panels/\"\n",
    "print_head(f\"GET request to {panels_url}\")\n",
    "\n",
    "panels_response = requests.get(panels_url, headers=HEADERS)\n",
    "\n",
    "if panels_response.status_code == 200:\n",
    "    panels = panels_response.json()\n",
    "    print_head(f\"✓ Found {len(panels)} reference panels\")\n",
    "    \n",
    "    for panel in panels:\n",
    "        print(f\"  - {panel['name']} ({panel.get('build', 'N/A')})\")\n",
    "        print(f\"    {panel.get('description', 'No description')}\")\n",
    "else:\n",
    "    print_error(f\"✗ Failed to get reference panels: {panels_response.status_code}\")"
   ]
  },
  {
   "cell_type": "markdown",
   "id": "d1e61f33-2d47-4e25-a55d-80abd80a5665",
   "metadata": {},
   "source": [
    "## 5. Upload Test Input File"
   ]
  },
  {
   "cell_type": "code",
   "execution_count": null,
   "id": "927a320d-db5f-499e-b933-1b081af3c3f3",
   "metadata": {},
   "outputs": [],
   "source": [
    "# Check if we have a test VCF file\n",
    "import os\n",
    "\n",
    "test_file_path = \"/home/ubuntu/federated-imputation-central/sample_data/test_input.vcf.gz\"\n",
    "\n",
    "if not os.path.exists(test_file_path):\n",
    "    print_error(f\"✗ Test file not found: {test_file_path}\")\n",
    "    print(\"You need to provide a test VCF file. For H3Africa data, use:\")\n",
    "    print(\"  - Create sample_data directory\")\n",
    "    print(\"  - Add a small test VCF file (e.g., chr22 subset)\")\n",
    "else:\n",
    "    print_head(f\"✓ Test file found: {test_file_path}\")\n",
    "    print(f\"  Size: {os.path.getsize(test_file_path) / 1024:.2f} KB\")"
   ]
  },
  {
   "cell_type": "markdown",
   "id": "df195001-4adf-4142-8800-a6a548cf1859",
   "metadata": {},
   "source": [
    "## 6. Create and Submit Imputation Job"
   ]
  },
  {
   "cell_type": "code",
   "execution_count": null,
   "id": "76bc7ac8-fed5-4567-beea-61fa4a0c3958",
   "metadata": {},
   "outputs": [],
   "source": [
    "# Create job\n",
    "jobs_url = f\"{CENTRAL_BASE_URL}/api/jobs/\"\n",
    "print_head(f\"POST request to {jobs_url}\")\n",
    "\n",
    "# Prepare multipart form data\n",
    "if os.path.exists(test_file_path):\n",
    "    with open(test_file_path, 'rb') as f:\n",
    "        files = {'input_file': f}\n",
    "        data = {\n",
    "            'reference_panel': TEST_REFERENCE_PANEL,\n",
    "            'chromosome': '22',  # Test with chr22 for speed\n",
    "            'population': 'AFR',  # African populations\n",
    "        }\n",
    "        \n",
    "        # Remove Content-Type header for multipart/form-data\n",
    "        headers_no_ct = {\"Authorization\": f\"Bearer {AUTH_TOKEN}\"}\n",
    "        \n",
    "        job_response = requests.post(jobs_url, headers=headers_no_ct, files=files, data=data)\n",
    "        \n",
    "        if job_response.status_code == 201:\n",
    "            job_data = job_response.json()\n",
    "            job_id = job_data['id']\n",
    "            print_head(f\"✓ Job created successfully! Job ID: {job_id}\")\n",
    "            print(json.dumps(job_data, indent=2))\n",
    "        else:\n",
    "            print_error(f\"✗ Failed to create job: {job_response.status_code}\")\n",
    "            print(job_response.text)\n",
    "else:\n",
    "    print_error(\"Skipping job creation - no test file available\")\n",
    "    job_id = None"
   ]
  },
  {
   "cell_type": "markdown",
   "id": "abff2d1f-a3ea-42d3-b20d-1a036b4f89ca",
   "metadata": {},
   "source": [
    "## 7. Monitor Job Progress (Poll for Status)"
   ]
  },
  {
   "cell_type": "code",
   "execution_count": null,
   "id": "e0675b09-c15f-474f-8588-ba473df8b3d6",
   "metadata": {},
   "outputs": [],
   "source": [
    "if job_id:\n",
    "    job_status_url = f\"{CENTRAL_BASE_URL}/api/jobs/{job_id}/\"\n",
    "    print_head(f\"Monitoring job {job_id}...\")\n",
    "    \n",
    "    max_attempts = 60  # 5 minutes with 5-second intervals\n",
    "    attempt = 0\n",
    "    \n",
    "    while attempt < max_attempts:\n",
    "        status_response = requests.get(job_status_url, headers=HEADERS)\n",
    "        \n",
    "        if status_response.status_code == 200:\n",
    "            job_status = status_response.json()\n",
    "            current_status = job_status['status']\n",
    "            \n",
    "            print(f\"  [{time.strftime('%H:%M:%S')}] Status: {current_status}\")\n",
    "            \n",
    "            if current_status in ['completed', 'failed', 'cancelled']:\n",
    "                print_head(f\"\\n✓ Job finished with status: {current_status}\")\n",
    "                \n",
    "                if current_status == 'completed':\n",
    "                    print(\"\\nJob Results:\")\n",
    "                    print(json.dumps(job_status, indent=2))\n",
    "                    \n",
    "                    # Check for output file\n",
    "                    if job_status.get('output_file'):\n",
    "                        print_head(f\"\\n✓ Output file available: {job_status['output_file']}\")\n",
    "                elif current_status == 'failed':\n",
    "                    print_error(f\"\\n✗ Job failed: {job_status.get('error_message', 'Unknown error')}\")\n",
    "                \n",
    "                break\n",
    "        else:\n",
    "            print_error(f\"✗ Failed to get job status: {status_response.status_code}\")\n",
    "            break\n",
    "        \n",
    "        attempt += 1\n",
    "        time.sleep(5)  # Wait 5 seconds before next poll\n",
    "    \n",
    "    if attempt >= max_attempts:\n",
    "        print_error(\"✗ Job monitoring timed out after 5 minutes\")\n",
    "else:\n",
    "    print_error(\"Skipping job monitoring - no job was created\")"
   ]
  },
  {
   "cell_type": "markdown",
   "id": "cfd92537-f058-48cc-a9f1-d5d46db93046",
   "metadata": {},
   "source": [
    "## 8. Test Dashboard Statistics"
   ]
  },
  {
   "cell_type": "code",
   "execution_count": null,
   "id": "62d9b681-0384-4565-8ef3-b058784afcdc",
   "metadata": {},
   "outputs": [],
   "source": [
    "# Get dashboard stats\n",
    "stats_url = f\"{CENTRAL_BASE_URL}/api/dashboard/stats/\"\n",
    "print_head(f\"GET request to {stats_url}\")\n",
    "\n",
    "stats_response = requests.get(stats_url, headers=HEADERS)\n",
    "\n",
    "if stats_response.status_code == 200:\n",
    "    stats = stats_response.json()\n",
    "    print_head(\"✓ Dashboard Statistics:\")\n",
    "    print(f\"  Total Jobs: {stats.get('total_jobs', 0)}\")\n",
    "    print(f\"  Completed: {stats.get('completed_jobs', 0)}\")\n",
    "    print(f\"  Failed: {stats.get('failed_jobs', 0)}\")\n",
    "    print(f\"  Running: {stats.get('running_jobs', 0)}\")\n",
    "    print(f\"  Healthy Services: {stats.get('healthy_services', 0)}\")\n",
    "else:\n",
    "    print_error(f\"✗ Failed to get stats: {stats_response.status_code}\")"
   ]
  },
  {
   "cell_type": "markdown",
   "id": "f7e52f9c-c2ea-4e89-9fe0-ecd7d4ebab52",
   "metadata": {},
   "source": [
    "## 9. Test Scatter-Gather Pattern\n",
    "### Simulate how the system distributes work across multiple services"
   ]
  },
  {
   "cell_type": "code",
   "execution_count": null,
   "id": "c0e2adf4-1007-42c8-9c78-34874e69070b",
   "metadata": {},
   "outputs": [],
   "source": [
    "# Get services grouped by reference panel\n",
    "services_response = requests.get(f\"{CENTRAL_BASE_URL}/api/services/\", headers=HEADERS)\n",
    "\n",
    "if services_response.status_code == 200:\n",
    "    services = services_response.json()\n",
    "    \n",
    "    # Group by reference panel\n",
    "    services_by_panel = {}\n",
    "    for service in services:\n",
    "        if service.get('is_healthy', False):\n",
    "            for panel in service.get('reference_panels', []):\n",
    "                panel_name = panel['name']\n",
    "                if panel_name not in services_by_panel:\n",
    "                    services_by_panel[panel_name] = []\n",
    "                services_by_panel[panel_name].append(service)\n",
    "    \n",
    "    print_head(\"\\n✓ Services grouped by reference panel:\")\n",
    "    for panel_name, panel_services in services_by_panel.items():\n",
    "        print(f\"\\n  {panel_name}:\")\n",
    "        for svc in panel_services:\n",
    "            print(f\"    - {svc['name']} ({svc['url']})\")\n",
    "            print(f\"      Last health check: {svc.get('last_health_check', 'Never')}\")\n",
    "else:\n",
    "    print_error(\"✗ Failed to group services\")"
   ]
  },
  {
   "cell_type": "markdown",
   "id": "6c829dfa-e834-4b76-9626-0d1ec3bf3431",
   "metadata": {},
   "source": [
    "## 10. Summary Report"
   ]
  },
  {
   "cell_type": "code",
   "execution_count": null,
   "id": "85df727b-41bd-474e-954b-385ec502d05a",
   "metadata": {},
   "outputs": [],
   "source": [
    "print(\"=\"*60)\n",
    "print(\"FEDERATED IMPUTATION PLATFORM - TEST SUMMARY\")\n",
    "print(\"=\"*60)\n",
    "\n",
    "# Test results\n",
    "test_results = [\n",
    "    (\"Authentication\", AUTH_TOKEN is not None),\n",
    "    (\"Service Discovery\", services_response.status_code == 200),\n",
    "    (\"Reference Panels\", panels_response.status_code == 200),\n",
    "    (\"Dashboard Stats\", stats_response.status_code == 200),\n",
    "]\n",
    "\n",
    "if job_id:\n",
    "    test_results.append((\"Job Creation\", True))\n",
    "    test_results.append((\"Job Execution\", job_status.get('status') == 'completed'))\n",
    "\n",
    "print(\"\\nTest Results:\")\n",
    "for test_name, passed in test_results:\n",
    "    status = \"✓ PASS\" if passed else \"✗ FAIL\"\n",
    "    color = \"\\033[38;2;8;138;75m\" if passed else \"\\033[38;2;255;0;0m\"\n",
    "    print(f\"  {color}{status}\\033[0m - {test_name}\")\n",
    "\n",
    "total_tests = len(test_results)\n",
    "passed_tests = sum(1 for _, passed in test_results if passed)\n",
    "\n",
    "print(f\"\\n{passed_tests}/{total_tests} tests passed\")\n",
    "print(\"=\"*60)"
   ]
  }
 ],
 "metadata": {
  "kernelspec": {
   "display_name": "Python 3 (ipykernel)",
   "language": "python",
   "name": "python3"
  },
  "language_info": {
   "codemirror_mode": {
    "name": "ipython",
    "version": 3
   },
   "file_extension": ".py",
   "mimetype": "text/x-python",
   "name": "python",
   "nbconvert_exporter": "python",
   "pygments_lexer": "ipython3",
   "version": "3.10.12"
  }
 },
 "nbformat": 4,
 "nbformat_minor": 5
}
